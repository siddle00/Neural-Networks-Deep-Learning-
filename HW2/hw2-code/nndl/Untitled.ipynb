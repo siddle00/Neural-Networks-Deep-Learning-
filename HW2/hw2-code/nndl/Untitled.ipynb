{
 "cells": [
  {
   "cell_type": "code",
   "execution_count": 201,
   "id": "6d1876ea",
   "metadata": {},
   "outputs": [],
   "source": [
    "import numpy as np\n",
    "import pdb\n",
    "\n",
    "\n",
    "class KNN(object):\n",
    "    \n",
    "    def __init__(self):\n",
    "        pass\n",
    "\n",
    "    def train(self, X, y):\n",
    "        \n",
    "        self.X_train = X\n",
    "        self.y_train = y\n",
    "\n",
    "    \"\"\"\n",
    "    Inputs:\n",
    "    - X is a numpy array of size (num_examples, D)\n",
    "    - y is a numpy array of size (num_examples, )\n",
    "    \n",
    "    \"\"\"\n",
    "        \n",
    "    def compute_distances(self, X, norm=None):\n",
    "        \"\"\"\n",
    "        Compute the distance between each test point in X and each training point\n",
    "        in self.X_train.\n",
    "\n",
    "        Inputs:\n",
    "        - X: A numpy array of shape (num_test, D) containing test data.\n",
    "        - norm: the function with which the norm is taken.\n",
    "\n",
    "        Returns:\n",
    "        - dists: A numpy array of shape (num_test, num_train) where dists[i, j]\n",
    "          is the Euclidean distance between the ith test point and the jth training\n",
    "          point.\n",
    "        \"\"\"\n",
    "        if norm is None:\n",
    "            norm = lambda x: np.sqrt(np.sum(x**2))\n",
    "            #norm = 2\n",
    "\n",
    "        num_test = X.shape[0]\n",
    "        num_train = self.X_train.shape[0]\n",
    "        dists = np.zeros((num_test, num_train))\n",
    "        for i in np.arange(num_test):\n",
    "            for j in np.arange(num_train):\n",
    "            # ================================================================ #\n",
    "            # YOUR CODE HERE:\n",
    "            #   Compute the distance between the ith test point and the jth       \n",
    "            #   training point using norm(), and store the result in dists[i, j].     \n",
    "            # ================================================================ #\n",
    "                dists[i,j] = np.linalg.norm(self.X_train[j]-X[j])\n",
    "\n",
    "            # ================================================================ #\n",
    "            # END YOUR CODE HERE\n",
    "            # ================================================================ #\n",
    "\n",
    "        return dists\n",
    "\n",
    "    def compute_L2_distances_vectorized(self, X):\n",
    "        \"\"\"\n",
    "        Compute the distance between each test point in X and each training point\n",
    "        in self.X_train WITHOUT using any for loops.\n",
    "\n",
    "        Inputs:\n",
    "        - X: A numpy array of shape (num_test, D) containing test data.\n",
    "\n",
    "        Returns:\n",
    "        - dists: A numpy array of shape (num_test, num_train) where dists[i, j]\n",
    "          is the Euclidean distance between the ith test point and the jth training\n",
    "          point.\n",
    "        \"\"\"\n",
    "        num_test = X.shape[0]\n",
    "        num_train = self.X_train.shape[0]\n",
    "        dists = np.zeros((num_test, num_train))\n",
    "\n",
    "        # ================================================================ #\n",
    "        # YOUR CODE HERE:\n",
    "        #   Compute the L2 distance between the ith test point and the jth       \n",
    "        #   training point and store the result in dists[i, j].  You may \n",
    "        #   NOT use a for loop (or list comprehension).  You may only use\n",
    "        #   numpy operations.\n",
    "        #\n",
    "        #   HINT: use broadcasting.  If you have a shape (N,1) array and\n",
    "        #   a shape (M,) array, adding them together produces a shape (N, M) \n",
    "        #   array.\n",
    "        # ================================================================ #\n",
    "\n",
    "        x_test_square = np.sum(X**2,axis=1).reshape((num_test,1))\n",
    "        x_train_square = np.sum(self.X_train**2,axis =1).reshape((1,num_train))\n",
    "        dot_test_train = np.dot(X,self.X_train.T)\n",
    "        dists = x_test_square + x_train_square - 2*dot_test_train \n",
    "    \n",
    "\n",
    "        # ================================================================ #\n",
    "        # END YOUR CODE HERE\n",
    "        # ================================================================ #\n",
    "\n",
    "        return dists\n",
    "\n",
    "\n",
    "    def predict_labels(self, dists, k=1):\n",
    "        \"\"\"\n",
    "        Given a matrix of distances between test points and training points,\n",
    "        predict a label for each test point.\n",
    "\n",
    "        Inputs:\n",
    "        - dists: A numpy array of shape (num_test, num_train) where dists[i, j]\n",
    "          gives the distance betwen the ith test point and the jth training point.\n",
    "\n",
    "        Returns:\n",
    "        - y: A numpy array of shape (num_test,) containing predicted labels for the\n",
    "          test data, where y[i] is the predicted label for the test point X[i].  \n",
    "        \"\"\"\n",
    "        num_test = dists.shape[0]\n",
    "        y_pred = np.zeros(num_test)\n",
    "        for i in np.arange(num_test):\n",
    "          # A list of length k storing the labels of the k nearest neighbors to\n",
    "          # the ith test point.\n",
    "            closest_y = []\n",
    "          # ================================================================ #\n",
    "          # YOUR CODE HERE:\n",
    "          #   Use the distances to calculate and then store the labels of \n",
    "          #   the k-nearest neighbors to the ith test point.  The function\n",
    "          #   numpy.argsort may be useful.\n",
    "          #   \n",
    "          #   After doing this, find the most common label of the k-nearest\n",
    "          #   neighbors.  Store the predicted label of the ith training example\n",
    "          #   as y_pred[i].  Break ties by choosing the smaller label.\n",
    "          # ================================================================ #\n",
    "            closest_y = dists[i].argsort()[0:k]\n",
    "            class_closest_y = []\n",
    "            for i in closest_y : \n",
    "                class_closest_y.append(self.Y_train[i])\n",
    "                \n",
    "                \n",
    "            y_pred.append(max(set(class_closest_y),key=class_closest_y.count))\n",
    "            \n",
    "\n",
    "          # ================================================================ #\n",
    "          # END YOUR CODE HERE\n",
    "          # ================================================================ #\n",
    "\n",
    "        return y_pred\n"
   ]
  },
  {
   "cell_type": "code",
   "execution_count": 133,
   "id": "b5d6796a",
   "metadata": {},
   "outputs": [],
   "source": [
    "a = np.arange(12)\n",
    "a = a.reshape((4,3))"
   ]
  },
  {
   "cell_type": "code",
   "execution_count": 144,
   "id": "df6b8837",
   "metadata": {},
   "outputs": [],
   "source": [
    "b = np.arange(15)\n",
    "b = b.reshape((5,3))"
   ]
  },
  {
   "cell_type": "code",
   "execution_count": 156,
   "id": "4f038a81",
   "metadata": {},
   "outputs": [
    {
     "data": {
      "text/plain": [
       "array([[ 0,  1,  2],\n",
       "       [ 3,  4,  5],\n",
       "       [ 6,  7,  8],\n",
       "       [ 9, 10, 11]])"
      ]
     },
     "execution_count": 156,
     "metadata": {},
     "output_type": "execute_result"
    }
   ],
   "source": [
    "a"
   ]
  },
  {
   "cell_type": "code",
   "execution_count": 157,
   "id": "58b1e1a5",
   "metadata": {},
   "outputs": [
    {
     "data": {
      "text/plain": [
       "array([[ 0,  3,  6,  9, 12],\n",
       "       [ 1,  4,  7, 10, 13],\n",
       "       [ 2,  5,  8, 11, 14]])"
      ]
     },
     "execution_count": 157,
     "metadata": {},
     "output_type": "execute_result"
    }
   ],
   "source": [
    "b.T"
   ]
  },
  {
   "cell_type": "code",
   "execution_count": 158,
   "id": "ba6b1dde",
   "metadata": {},
   "outputs": [],
   "source": [
    "A = np.sum(a**2, axis=1).reshape((4, 1))\n",
    "B = np.sum(b**2,axis =1).reshape((1,5))"
   ]
  },
  {
   "cell_type": "code",
   "execution_count": 159,
   "id": "06725aaf",
   "metadata": {},
   "outputs": [
    {
     "data": {
      "text/plain": [
       "array([[  5],\n",
       "       [ 50],\n",
       "       [149],\n",
       "       [302]])"
      ]
     },
     "execution_count": 159,
     "metadata": {},
     "output_type": "execute_result"
    }
   ],
   "source": [
    "A"
   ]
  },
  {
   "cell_type": "code",
   "execution_count": 160,
   "id": "04f3f330",
   "metadata": {},
   "outputs": [
    {
     "data": {
      "text/plain": [
       "array([[  5,  50, 149, 302, 509]])"
      ]
     },
     "execution_count": 160,
     "metadata": {},
     "output_type": "execute_result"
    }
   ],
   "source": [
    "B"
   ]
  },
  {
   "cell_type": "code",
   "execution_count": 161,
   "id": "d78a5724",
   "metadata": {},
   "outputs": [],
   "source": [
    "dot = np.dot(a, b.T)"
   ]
  },
  {
   "cell_type": "code",
   "execution_count": 163,
   "id": "e3d59271",
   "metadata": {},
   "outputs": [
    {
     "data": {
      "text/plain": [
       "array([[  5,  14,  23,  32,  41],\n",
       "       [ 14,  50,  86, 122, 158],\n",
       "       [ 23,  86, 149, 212, 275],\n",
       "       [ 32, 122, 212, 302, 392]])"
      ]
     },
     "execution_count": 163,
     "metadata": {},
     "output_type": "execute_result"
    }
   ],
   "source": [
    "dot"
   ]
  },
  {
   "cell_type": "code",
   "execution_count": 165,
   "id": "0b75795b",
   "metadata": {},
   "outputs": [
    {
     "data": {
      "text/plain": [
       "array([[  5],\n",
       "       [ 50],\n",
       "       [149],\n",
       "       [302]])"
      ]
     },
     "execution_count": 165,
     "metadata": {},
     "output_type": "execute_result"
    }
   ],
   "source": [
    "A "
   ]
  },
  {
   "cell_type": "code",
   "execution_count": 168,
   "id": "e81d59a8",
   "metadata": {},
   "outputs": [
    {
     "data": {
      "text/plain": [
       "array([[  5,  50, 149, 302, 509]])"
      ]
     },
     "execution_count": 168,
     "metadata": {},
     "output_type": "execute_result"
    }
   ],
   "source": [
    "B"
   ]
  },
  {
   "cell_type": "code",
   "execution_count": 167,
   "id": "6b50dabb",
   "metadata": {},
   "outputs": [
    {
     "data": {
      "text/plain": [
       "array([[ 10,  55, 154, 307, 514],\n",
       "       [ 55, 100, 199, 352, 559],\n",
       "       [154, 199, 298, 451, 658],\n",
       "       [307, 352, 451, 604, 811]])"
      ]
     },
     "execution_count": 167,
     "metadata": {},
     "output_type": "execute_result"
    }
   ],
   "source": [
    "A + B"
   ]
  },
  {
   "cell_type": "code",
   "execution_count": 164,
   "id": "8ab6595e",
   "metadata": {},
   "outputs": [
    {
     "data": {
      "text/plain": [
       "array([[  0,  27, 108, 243, 432],\n",
       "       [ 27,   0,  27, 108, 243],\n",
       "       [108,  27,   0,  27, 108],\n",
       "       [243, 108,  27,   0,  27]])"
      ]
     },
     "execution_count": 164,
     "metadata": {},
     "output_type": "execute_result"
    }
   ],
   "source": [
    "A + B - 2*dot"
   ]
  },
  {
   "cell_type": "code",
   "execution_count": 183,
   "id": "f068895f",
   "metadata": {},
   "outputs": [],
   "source": [
    "a = np.array([[1,4,2,25], [13,1,4,29]])"
   ]
  },
  {
   "cell_type": "code",
   "execution_count": 184,
   "id": "de7d0e9f",
   "metadata": {},
   "outputs": [
    {
     "data": {
      "text/plain": [
       "array([[0, 2, 1, 3],\n",
       "       [1, 2, 0, 3]])"
      ]
     },
     "execution_count": 184,
     "metadata": {},
     "output_type": "execute_result"
    }
   ],
   "source": [
    "a.argsort(axis=1)"
   ]
  },
  {
   "cell_type": "code",
   "execution_count": 186,
   "id": "63f5bdbd",
   "metadata": {},
   "outputs": [
    {
     "data": {
      "text/plain": [
       "array([[ 1,  4,  2, 25],\n",
       "       [13,  1,  4, 29]])"
      ]
     },
     "execution_count": 186,
     "metadata": {},
     "output_type": "execute_result"
    }
   ],
   "source": [
    "a"
   ]
  },
  {
   "cell_type": "code",
   "execution_count": 191,
   "id": "2875ba6f",
   "metadata": {},
   "outputs": [],
   "source": [
    "y = []\n",
    "y = a[1].argsort()[0:2]"
   ]
  },
  {
   "cell_type": "code",
   "execution_count": 194,
   "id": "462e55db",
   "metadata": {},
   "outputs": [
    {
     "name": "stdout",
     "output_type": "stream",
     "text": [
      "1\n",
      "2\n"
     ]
    }
   ],
   "source": [
    "for i in y : \n",
    "    print(i)"
   ]
  },
  {
   "cell_type": "code",
   "execution_count": 200,
   "id": "1b3f1d5f",
   "metadata": {},
   "outputs": [
    {
     "data": {
      "text/plain": [
       "0"
      ]
     },
     "execution_count": 200,
     "metadata": {},
     "output_type": "execute_result"
    }
   ],
   "source": [
    "lst = [2, 3, 3, 3, 3, 4, 1, 1, 1, 1, 0,0,0,0,0]\n",
    "max(set(lst), key=lst.count)"
   ]
  },
  {
   "cell_type": "code",
   "execution_count": 198,
   "id": "9d24d9c5",
   "metadata": {},
   "outputs": [
    {
     "data": {
      "text/plain": [
       "{1, 2, 3, 4}"
      ]
     },
     "execution_count": 198,
     "metadata": {},
     "output_type": "execute_result"
    }
   ],
   "source": [
    "set(lst)"
   ]
  },
  {
   "cell_type": "code",
   "execution_count": null,
   "id": "5daf51b9",
   "metadata": {},
   "outputs": [],
   "source": []
  }
 ],
 "metadata": {
  "kernelspec": {
   "display_name": "Python 3",
   "language": "python",
   "name": "python3"
  },
  "language_info": {
   "codemirror_mode": {
    "name": "ipython",
    "version": 3
   },
   "file_extension": ".py",
   "mimetype": "text/x-python",
   "name": "python",
   "nbconvert_exporter": "python",
   "pygments_lexer": "ipython3",
   "version": "3.8.8"
  }
 },
 "nbformat": 4,
 "nbformat_minor": 5
}
